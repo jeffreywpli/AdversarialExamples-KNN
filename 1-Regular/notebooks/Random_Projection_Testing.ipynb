{
 "cells": [
  {
   "cell_type": "code",
   "execution_count": 2,
   "metadata": {},
   "outputs": [
    {
     "name": "stderr",
     "output_type": "stream",
     "text": [
      "Using TensorFlow backend.\n"
     ]
    }
   ],
   "source": [
    "from keras import backend as Keras\n",
    "from keras.backend.tensorflow_backend import set_session\n",
    "import multiprocessing\n",
    "import numpy as np\n",
    "import os\n",
    "import pickle\n",
    "import sys\n",
    "import tensorflow as tf\n",
    "\n",
    "sys.path.insert(0, \"../../Code/nn_breaking_detection\")\n",
    "from setup_mnist import MNISTModel, MNIST\n",
    "from setup_cifar import CIFARModel, CIFAR\n",
    "\n",
    "sys.path.insert(0, \"../../Code/cleverhans\")\n",
    "from cleverhans.model import Model\n",
    "from cleverhans.attacks import SPSA\n",
    "\n",
    "sys.path.insert(0, \"../../Code/\")\n",
    "from defense import DefendedModel\n",
    "from nearest_neighbors import knn\n",
    "\n",
    "%matplotlib inline\n",
    "import matplotlib.pyplot as plt\n",
    "\n",
    "from scipy.stats import mode"
   ]
  },
  {
   "cell_type": "code",
   "execution_count": 8,
   "metadata": {},
   "outputs": [],
   "source": [
    "CIFAR_data = CIFAR()\n",
    "MNIST_data = MNIST()"
   ]
  },
  {
   "cell_type": "markdown",
   "metadata": {},
   "source": [
    "## 1. Retrieving the Data and Loading the Models"
   ]
  },
  {
   "cell_type": "code",
   "execution_count": 9,
   "metadata": {},
   "outputs": [
    {
     "ename": "NameError",
     "evalue": "name 'CIFAR_data' is not defined",
     "output_type": "error",
     "traceback": [
      "\u001b[0;31m---------------------------------------------------------------------------\u001b[0m",
      "\u001b[0;31mNameError\u001b[0m                                 Traceback (most recent call last)",
      "\u001b[0;32m<ipython-input-9-ef3ddd62e3de>\u001b[0m in \u001b[0;36m<module>\u001b[0;34m()\u001b[0m\n\u001b[1;32m      2\u001b[0m \u001b[0mattack_dict\u001b[0m \u001b[0;34m=\u001b[0m \u001b[0mpickle\u001b[0m\u001b[0;34m.\u001b[0m\u001b[0mload\u001b[0m\u001b[0;34m(\u001b[0m\u001b[0mpickle_in\u001b[0m\u001b[0;34m)\u001b[0m\u001b[0;34m\u001b[0m\u001b[0m\n\u001b[1;32m      3\u001b[0m \u001b[0mfp_indices\u001b[0m \u001b[0;34m=\u001b[0m \u001b[0mnp\u001b[0m\u001b[0;34m.\u001b[0m\u001b[0mwhere\u001b[0m\u001b[0;34m(\u001b[0m\u001b[0mattack_dict\u001b[0m\u001b[0;34m[\u001b[0m\u001b[0;34m'FP'\u001b[0m\u001b[0;34m]\u001b[0m \u001b[0;34m==\u001b[0m \u001b[0;32mTrue\u001b[0m\u001b[0;34m)\u001b[0m\u001b[0;34m\u001b[0m\u001b[0m\n\u001b[0;32m----> 4\u001b[0;31m \u001b[0mfp_test_x\u001b[0m \u001b[0;34m=\u001b[0m \u001b[0mCIFAR_data\u001b[0m\u001b[0;34m.\u001b[0m\u001b[0mtest_data\u001b[0m\u001b[0;34m[\u001b[0m\u001b[0mfp_indices\u001b[0m\u001b[0;34m]\u001b[0m\u001b[0;34m\u001b[0m\u001b[0m\n\u001b[0m\u001b[1;32m      5\u001b[0m \u001b[0mfp_test_y\u001b[0m \u001b[0;34m=\u001b[0m \u001b[0mnp\u001b[0m\u001b[0;34m.\u001b[0m\u001b[0margmax\u001b[0m\u001b[0;34m(\u001b[0m\u001b[0mCIFAR_data\u001b[0m\u001b[0;34m.\u001b[0m\u001b[0mtest_labels\u001b[0m\u001b[0;34m[\u001b[0m\u001b[0mfp_indices\u001b[0m\u001b[0;34m]\u001b[0m\u001b[0;34m,\u001b[0m \u001b[0maxis\u001b[0m \u001b[0;34m=\u001b[0m \u001b[0;36m1\u001b[0m\u001b[0;34m)\u001b[0m\u001b[0;34m\u001b[0m\u001b[0m\n",
      "\u001b[0;31mNameError\u001b[0m: name 'CIFAR_data' is not defined"
     ]
    }
   ],
   "source": [
    "pickle_in = open(\"../5-Attack/CIFAR/0.031_1_51_0.0\",\"rb\")\n",
    "attack_dict = pickle.load(pickle_in)\n",
    "fp_indices = np.where(attack_dict['FP'] == True)\n",
    "fp_test_x = CIFAR_data.test_data[fp_indices]\n",
    "fp_test_y = np.argmax(CIFAR_data.test_labels[fp_indices], axis = 1)"
   ]
  },
  {
   "cell_type": "markdown",
   "metadata": {},
   "source": [
    "## 2. Performing Projection"
   ]
  },
  {
   "cell_type": "code",
   "execution_count": 10,
   "metadata": {},
   "outputs": [],
   "source": [
    "# Numpy Implementation\n",
    "def random_peturb(image, attempts=200, dist_type=\"gaussian\", params = {\"std_dev\": 0.02}):\n",
    "    size = (attempts, ) + image.shape\n",
    "\n",
    "    if dist_type == \"gaussian\": \n",
    "        deltas = np.random.normal(0, params[\"std_dev\"], size)\n",
    "    elif dist_type == \"uniform\":\n",
    "        deltas = np.random.uniform(params[\"low\"], params[\"high\"], size)    \n",
    "    else: \n",
    "        print(\"Noise type not supported\")\n",
    "        \n",
    "    projection_attempts = image + deltas\n",
    "    return projection_attempts\n",
    "\n",
    "\n",
    "    "
   ]
  },
  {
   "cell_type": "code",
   "execution_count": 11,
   "metadata": {},
   "outputs": [
    {
     "ename": "NameError",
     "evalue": "name 'fp_test_x' is not defined",
     "output_type": "error",
     "traceback": [
      "\u001b[0;31m---------------------------------------------------------------------------\u001b[0m",
      "\u001b[0;31mNameError\u001b[0m                                 Traceback (most recent call last)",
      "\u001b[0;32m<ipython-input-11-554f80c31f81>\u001b[0m in \u001b[0;36m<module>\u001b[0;34m()\u001b[0m\n\u001b[0;32m----> 1\u001b[0;31m \u001b[0mprojection_attempts\u001b[0m \u001b[0;34m=\u001b[0m \u001b[0mrandom_peturb\u001b[0m\u001b[0;34m(\u001b[0m\u001b[0mfp_test_x\u001b[0m\u001b[0;34m[\u001b[0m\u001b[0;36m0\u001b[0m\u001b[0;34m]\u001b[0m\u001b[0;34m,\u001b[0m \u001b[0mattempts\u001b[0m\u001b[0;34m=\u001b[0m\u001b[0;36m10\u001b[0m\u001b[0;34m)\u001b[0m\u001b[0;34m\u001b[0m\u001b[0m\n\u001b[0m\u001b[1;32m      2\u001b[0m \u001b[0mprojection_attempts\u001b[0m\u001b[0;34m\u001b[0m\u001b[0m\n",
      "\u001b[0;31mNameError\u001b[0m: name 'fp_test_x' is not defined"
     ]
    }
   ],
   "source": [
    "projection_attempts = random_peturb(fp_test_x[0], attempts=10)\n",
    "projection_attempts"
   ]
  },
  {
   "cell_type": "markdown",
   "metadata": {},
   "source": [
    "## 3. Testing if Projection Worked"
   ]
  },
  {
   "cell_type": "code",
   "execution_count": 12,
   "metadata": {},
   "outputs": [],
   "source": [
    "### SETTING UP TENSORFLOW MODEL ###\n",
    "Keras.clear_session()\n",
    "\n",
    "config = tf.ConfigProto()\n",
    "config.gpu_options.allow_growth=True\n",
    "set_session(tf.Session(config=config))\n",
    "\n",
    "sess = Keras.get_session()\n",
    "Keras.set_learning_phase(False)\n",
    "\n",
    "# Fix Random Seeds\n",
    "np.random.seed(1)\n",
    "tf.set_random_seed(1) #Having this before keras.clear_session() causes it it hang for some reason\n",
    "base_model = CIFARModel(\"../1-Models/CIFAR\")\n",
    "\n",
    "x = tf.placeholder(tf.float32, shape=(None, 32, 32, 3))\n",
    "K = 51\n",
    "\n",
    "dataset = \"CIFAR\"\n",
    "mode = \"1\"\n",
    "x_train_real = np.squeeze(np.load(\"../3-Representation/\" + dataset + \"/train_\" + mode + \".npy\"))\n",
    "x_train_adv = np.squeeze(np.load(\"../3-Representation/\" + dataset + \"/train_adv_\" + mode + \".npy\"))\n",
    "\n",
    "n_train = x_train_real.shape[0]\n",
    "n_train_adv = x_train_adv.shape[0]\n",
    "x_train = np.float32(np.vstack((x_train_real, x_train_adv)))\n",
    "y_train = np.float32(np.hstack((-1.0 * np.ones(n_train), np.ones(n_train_adv))))\n",
    "\n",
    "# Create the defended model\n",
    "model_defended = DefendedModel(base_model, x_train, y_train, K)\n",
    "defended_logits = model_defended.get_logits(x)\n",
    "#logits_real = sess.run(defended_logits, {x: projection_attempts})\n",
    "\n",
    "\n"
   ]
  },
  {
   "cell_type": "code",
   "execution_count": 23,
   "metadata": {},
   "outputs": [
    {
     "name": "stdout",
     "output_type": "stream",
     "text": [
      "Done with image  0\n",
      "Done with image  25\n",
      "Done with image  50\n",
      "Done with image  75\n",
      "Done with image  100\n",
      "Done with image  125\n",
      "Done with image  150\n",
      "Done with image  175\n",
      "Done with image  200\n",
      "Done with image  225\n",
      "\n",
      "Percent Projected:  0.8864628820960698\n",
      "Percent Projected Successfully:  0.49344978165938863\n",
      "Reduction of FPR:  0.113\n",
      "Total Percent Predicted Correctly:  0.884\n"
     ]
    }
   ],
   "source": [
    "### PROJECTION PARAMS ###\n",
    "attempts = 1000\n",
    "dist_type = \"gaussian\"\n",
    "projections = 0\n",
    "successes = 0\n",
    "gaussian_params = {\"std_dev\": 0.022}\n",
    "uniform_params = {'low': -0.2, 'high': 0.2}\n",
    "\n",
    "\n",
    "### PROJECTION ###\n",
    "for i in range(fp_test_x.shape[0]):\n",
    "    projection_attempts = random_peturb(fp_test_x[i], attempts, dist_type, gaussian_params)\n",
    "    projection_labels = np.argmax(sess.run(defended_logits, {x: projection_attempts}), axis = 1)\n",
    "    successful_projections = projection_labels[np.nonzero(projection_labels * (projection_labels != 10))]\n",
    "\n",
    "    \n",
    "    if successful_projections.shape[0] != 0:\n",
    "        projections += 1\n",
    "    \n",
    "        if mode(successful_projections)[0][0] == fp_test_y[i]:\n",
    "            successes += 1\n",
    "\n",
    "    if i % 25 == 0:\n",
    "        print(\"Done with image \", i)\n",
    "        \n",
    "print(\"\\nPercent Projected: \", projections/fp_test_x.shape[0])\n",
    "print(\"Percent Projected Successfully: \", successes/fp_test_x.shape[0])\n",
    "print(\"Reduction of FPR: \", successes/1000)\n",
    "print(\"Total Percent Predicted Correctly: \", 1 - 0.229 + successes/1000)"
   ]
  },
  {
   "cell_type": "code",
   "execution_count": 15,
   "metadata": {},
   "outputs": [
    {
     "data": {
      "text/plain": [
       "(229,)"
      ]
     },
     "execution_count": 15,
     "metadata": {},
     "output_type": "execute_result"
    }
   ],
   "source": [
    "fp_indices[0].shape"
   ]
  },
  {
   "cell_type": "code",
   "execution_count": 13,
   "metadata": {},
   "outputs": [],
   "source": [
    "import defense_projection\n",
    "x = tf.placeholder(tf.float32, shape=(None, 32, 32, 3))\n",
    "defense = defense_projection.DefendedModel(base_model, x_train, y_train, K)\n",
    "get_votes = defense.get_logits(x) "
   ]
  },
  {
   "cell_type": "code",
   "execution_count": 15,
   "metadata": {},
   "outputs": [
    {
     "data": {
      "text/plain": [
       "0.92156863"
      ]
     },
     "execution_count": 15,
     "metadata": {},
     "output_type": "execute_result"
    }
   ],
   "source": [
    "sess.run(get_votes, {x: fp_test_x})"
   ]
  },
  {
   "cell_type": "code",
   "execution_count": 15,
   "metadata": {},
   "outputs": [],
   "source": [
    "x = tf.placeholder(tf.float32, shape=(None,2,3))\n",
    "y = x[0][0][0] + 1"
   ]
  },
  {
   "cell_type": "code",
   "execution_count": 16,
   "metadata": {},
   "outputs": [
    {
     "data": {
      "text/plain": [
       "2.0"
      ]
     },
     "execution_count": 16,
     "metadata": {},
     "output_type": "execute_result"
    }
   ],
   "source": [
    "sess.run(y, {x:np.linspace(1,6,6).reshape((1,2,3))})"
   ]
  },
  {
   "cell_type": "code",
   "execution_count": 17,
   "metadata": {},
   "outputs": [],
   "source": [
    "delta = tf.random_normal(\n",
    "    (1,2,3),\n",
    "    mean=0.0,\n",
    "    stddev=1.0,\n",
    "    dtype=tf.float32,\n",
    ")\n",
    "\n",
    "y = delta + x"
   ]
  },
  {
   "cell_type": "code",
   "execution_count": 18,
   "metadata": {},
   "outputs": [
    {
     "data": {
      "text/plain": [
       "array([[[ 1.2399081,  1.9938997,  2.7676735],\n",
       "        [ 6.0171127,  5.0995693,  4.9201517]],\n",
       "\n",
       "       [[ 7.239908 ,  7.9939   ,  8.7676735],\n",
       "        [12.017113 , 11.099569 , 10.920152 ]]], dtype=float32)"
      ]
     },
     "execution_count": 18,
     "metadata": {},
     "output_type": "execute_result"
    }
   ],
   "source": [
    "sess.run(y, {x: np.linspace(1,12,12).reshape((2,2,3))})"
   ]
  },
  {
   "cell_type": "code",
   "execution_count": 19,
   "metadata": {},
   "outputs": [],
   "source": [
    "delta_2 = tf.random_normal(delta.shape)"
   ]
  },
  {
   "cell_type": "code",
   "execution_count": 20,
   "metadata": {},
   "outputs": [
    {
     "data": {
      "text/plain": [
       "array([[[ 1.3225639 , -2.5372453 , -0.5415378 ],\n",
       "        [ 0.11667927, -0.21633413, -0.3490997 ]]], dtype=float32)"
      ]
     },
     "execution_count": 20,
     "metadata": {},
     "output_type": "execute_result"
    }
   ],
   "source": [
    "sess.run(delta_2)"
   ]
  },
  {
   "cell_type": "code",
   "execution_count": 21,
   "metadata": {},
   "outputs": [
    {
     "data": {
      "text/plain": [
       "array([[[-0.28913534, -1.6328075 , -0.50871074],\n",
       "        [ 0.01319283,  0.0617231 , -1.238702  ]]], dtype=float32)"
      ]
     },
     "execution_count": 21,
     "metadata": {},
     "output_type": "execute_result"
    }
   ],
   "source": [
    "sess.run(delta)"
   ]
  },
  {
   "cell_type": "code",
   "execution_count": 22,
   "metadata": {},
   "outputs": [
    {
     "data": {
      "text/plain": [
       "TensorShape([Dimension(2), Dimension(3)])"
      ]
     },
     "execution_count": 22,
     "metadata": {},
     "output_type": "execute_result"
    }
   ],
   "source": [
    "delta_2.shape[1:]"
   ]
  },
  {
   "cell_type": "code",
   "execution_count": null,
   "metadata": {},
   "outputs": [],
   "source": []
  },
  {
   "cell_type": "code",
   "execution_count": null,
   "metadata": {},
   "outputs": [],
   "source": []
  }
 ],
 "metadata": {
  "kernelspec": {
   "display_name": "Environment (conda_tensorflow_p36)",
   "language": "python",
   "name": "conda_tensorflow_p36"
  },
  "language_info": {
   "codemirror_mode": {
    "name": "ipython",
    "version": 3
   },
   "file_extension": ".py",
   "mimetype": "text/x-python",
   "name": "python",
   "nbconvert_exporter": "python",
   "pygments_lexer": "ipython3",
   "version": "3.6.6"
  }
 },
 "nbformat": 4,
 "nbformat_minor": 2
}
